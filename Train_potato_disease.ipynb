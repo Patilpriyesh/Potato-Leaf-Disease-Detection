{
 "cells": [
  {
   "cell_type": "code",
   "execution_count": 1,
   "metadata": {},
   "outputs": [],
   "source": [
    "import tensorflow as tf\n",
    "import matplotlib.pyplot as plt\n",
    "from tensorflow.python import pywrap_tensorflow\n",
    "# import pandas as pd\n",
    "# import seaborn as sns"
   ]
  },
  {
   "cell_type": "code",
   "execution_count": 2,
   "metadata": {},
   "outputs": [
    {
     "name": "stdout",
     "output_type": "stream",
     "text": [
      "Current Workig Directory c:\\Users\\PRIYESH\\OneDrive\\Desktop\\potato disease project\n"
     ]
    }
   ],
   "source": [
    "import os\n",
    "print('Current Workig Directory', os.getcwd())\n",
    "curr_dir = os.getcwd()\n",
    "train_path = os.path.join(curr_dir,\"datasets\",\"Train\")\n",
    "test_path = os.path.join(curr_dir,\"datasets\",\"Test\")\n",
    "valid_path = os.path.join(curr_dir,\"datasets\",\"valid\")\n"
   ]
  },
  {
   "cell_type": "code",
   "execution_count": 3,
   "metadata": {},
   "outputs": [
    {
     "name": "stdout",
     "output_type": "stream",
     "text": [
      "Found 900 files belonging to 3 classes.\n"
     ]
    }
   ],
   "source": [
    "training_set = tf.keras.utils.image_dataset_from_directory(\n",
    "    train_path,\n",
    "    labels=\"inferred\",\n",
    "    label_mode=\"categorical\",\n",
    "    color_mode=\"rgb\",\n",
    "    # batch_size = 32,\n",
    "    image_size=(128, 128),\n",
    "    shuffle=True,\n",
    "    # seed = None,\n",
    "    # validation_split = None,\n",
    "    # subset = None,\n",
    "    interpolation=\"bilinear\",\n",
    "    # follow_links = False,\n",
    "    # crop_to_aspect_ratio = False\n",
    ")"
   ]
  },
  {
   "cell_type": "code",
   "execution_count": 4,
   "metadata": {},
   "outputs": [
    {
     "data": {
      "text/plain": [
       "['Potato___Early_blight', 'Potato___Late_blight', 'Potato___healthy']"
      ]
     },
     "execution_count": 4,
     "metadata": {},
     "output_type": "execute_result"
    }
   ],
   "source": [
    "# Get the class labels\n",
    "training_set.class_names"
   ]
  },
  {
   "cell_type": "code",
   "execution_count": 5,
   "metadata": {},
   "outputs": [
    {
     "name": "stdout",
     "output_type": "stream",
     "text": [
      "Found 300 files belonging to 3 classes.\n"
     ]
    }
   ],
   "source": [
    "validation_set = tf.keras.utils.image_dataset_from_directory(\n",
    "    valid_path,\n",
    "    labels=\"inferred\",\n",
    "    label_mode=\"categorical\",\n",
    "    color_mode=\"rgb\",\n",
    "    # batch_size = 32,\n",
    "    image_size=(128, 128),\n",
    "    shuffle=True,\n",
    "    # seed = None,\n",
    "    # validation_split = None,\n",
    "    # subset = None,\n",
    "    interpolation=\"bilinear\",\n",
    "    # follow_links = False,\n",
    "    # crop_to_aspect_ratio = False\n",
    ")"
   ]
  },
  {
   "cell_type": "code",
   "execution_count": 14,
   "metadata": {},
   "outputs": [],
   "source": [
    "cnn = tf.keras.models.Sequential()\n",
    "cnn.add(tf.keras.layers.Conv2D(filters=32,kernel_size=3,padding='same',activation='relu',input_shape = [128,128,3]))\n",
    "cnn.add(tf.keras.layers.Conv2D(filters=32,kernel_size=3,activation='relu'))\n",
    "cnn.add(tf.keras.layers.MaxPool2D(pool_size= 2,strides=2))\n",
    "\n",
    "cnn.add(tf.keras.layers.Conv2D(filters=64,kernel_size=3,padding='same',activation='relu',input_shape = [128,128,3]))\n",
    "cnn.add(tf.keras.layers.Conv2D(filters=64,kernel_size=3,activation='relu'))\n",
    "cnn.add(tf.keras.layers.MaxPool2D(pool_size= 2,strides=2))\n",
    "\n",
    "cnn.add(tf.keras.layers.Conv2D(filters=128,kernel_size=3,padding='same',activation='relu',input_shape = [128,128,3]))\n",
    "cnn.add(tf.keras.layers.Conv2D(filters=128,kernel_size=3,activation='relu'))\n",
    "cnn.add(tf.keras.layers.MaxPool2D(pool_size= 2,strides=2))\n",
    "\n",
    "cnn.add(tf.keras.layers.Conv2D(filters=256,kernel_size=3,padding='same',activation='relu',input_shape = [128,128,3]))\n",
    "cnn.add(tf.keras.layers.Conv2D(filters=256,kernel_size=3,activation='relu'))\n",
    "cnn.add(tf.keras.layers.MaxPool2D(pool_size= 2,strides=2))\n",
    "\n",
    "cnn.add(tf.keras.layers.Conv2D(filters=512,kernel_size=3,padding='same',activation='relu',input_shape = [128,128,3]))\n",
    "cnn.add(tf.keras.layers.Conv2D(filters=512,kernel_size=3,activation='relu'))\n",
    "cnn.add(tf.keras.layers.MaxPool2D(pool_size= 2,strides=2))\n",
    "\n",
    "cnn.add(tf.keras.layers.Dropout(0.25))\n",
    "\n",
    "cnn.add(tf.keras.layers.Flatten())\n",
    "cnn.add(tf.keras.layers.Dense(units=1500,activation='relu'))\n",
    "cnn.add(tf.keras.layers.Dropout(0.4))\n",
    "\n",
    "cnn.add(tf.keras.layers.Dense(units=3,activation='softmax'))\n"
   ]
  },
  {
   "cell_type": "code",
   "execution_count": 15,
   "metadata": {},
   "outputs": [],
   "source": [
    "cnn.compile(optimizer=tf.keras.optimizers.Adam(\n",
    "    learning_rate=0.0001),loss='categorical_crossentropy',metrics=['accuracy'])"
   ]
  },
  {
   "cell_type": "code",
   "execution_count": 16,
   "metadata": {},
   "outputs": [
    {
     "name": "stdout",
     "output_type": "stream",
     "text": [
      "Model: \"sequential_8\"\n",
      "_________________________________________________________________\n",
      " Layer (type)                Output Shape              Param #   \n",
      "=================================================================\n",
      " conv2d_11 (Conv2D)          (None, 128, 128, 32)      896       \n",
      "                                                                 \n",
      " conv2d_12 (Conv2D)          (None, 126, 126, 32)      9248      \n",
      "                                                                 \n",
      " max_pooling2d_4 (MaxPooling  (None, 63, 63, 32)       0         \n",
      " 2D)                                                             \n",
      "                                                                 \n",
      " conv2d_13 (Conv2D)          (None, 63, 63, 64)        18496     \n",
      "                                                                 \n",
      " conv2d_14 (Conv2D)          (None, 61, 61, 64)        36928     \n",
      "                                                                 \n",
      " max_pooling2d_5 (MaxPooling  (None, 30, 30, 64)       0         \n",
      " 2D)                                                             \n",
      "                                                                 \n",
      " conv2d_15 (Conv2D)          (None, 30, 30, 128)       73856     \n",
      "                                                                 \n",
      " conv2d_16 (Conv2D)          (None, 28, 28, 128)       147584    \n",
      "                                                                 \n",
      " max_pooling2d_6 (MaxPooling  (None, 14, 14, 128)      0         \n",
      " 2D)                                                             \n",
      "                                                                 \n",
      " conv2d_17 (Conv2D)          (None, 14, 14, 256)       295168    \n",
      "                                                                 \n",
      " conv2d_18 (Conv2D)          (None, 12, 12, 256)       590080    \n",
      "                                                                 \n",
      " max_pooling2d_7 (MaxPooling  (None, 6, 6, 256)        0         \n",
      " 2D)                                                             \n",
      "                                                                 \n",
      " conv2d_19 (Conv2D)          (None, 6, 6, 512)         1180160   \n",
      "                                                                 \n",
      " conv2d_20 (Conv2D)          (None, 4, 4, 512)         2359808   \n",
      "                                                                 \n",
      " max_pooling2d_8 (MaxPooling  (None, 2, 2, 512)        0         \n",
      " 2D)                                                             \n",
      "                                                                 \n",
      " dropout (Dropout)           (None, 2, 2, 512)         0         \n",
      "                                                                 \n",
      " flatten (Flatten)           (None, 2048)              0         \n",
      "                                                                 \n",
      " dense (Dense)               (None, 1500)              3073500   \n",
      "                                                                 \n",
      " dropout_1 (Dropout)         (None, 1500)              0         \n",
      "                                                                 \n",
      " dense_1 (Dense)             (None, 3)                 4503      \n",
      "                                                                 \n",
      "=================================================================\n",
      "Total params: 7,790,227\n",
      "Trainable params: 7,790,227\n",
      "Non-trainable params: 0\n",
      "_________________________________________________________________\n"
     ]
    }
   ],
   "source": [
    "cnn.summary()"
   ]
  },
  {
   "cell_type": "code",
   "execution_count": null,
   "metadata": {},
   "outputs": [
    {
     "name": "stdout",
     "output_type": "stream",
     "text": [
      "Epoch 1/10\n",
      "29/29 [==============================] - 43s 1s/step - loss: 0.0224 - accuracy: 0.9933 - val_loss: 0.1496 - val_accuracy: 0.9567\n",
      "Epoch 2/10\n",
      "29/29 [==============================] - 42s 1s/step - loss: 0.0150 - accuracy: 0.9944 - val_loss: 0.1534 - val_accuracy: 0.9467\n",
      "Epoch 3/10\n",
      "29/29 [==============================] - 46s 2s/step - loss: 0.0154 - accuracy: 0.9956 - val_loss: 0.2297 - val_accuracy: 0.9367\n",
      "Epoch 4/10\n",
      "29/29 [==============================] - 44s 2s/step - loss: 0.0707 - accuracy: 0.9767 - val_loss: 0.1331 - val_accuracy: 0.9533\n",
      "Epoch 5/10\n",
      "29/29 [==============================] - 43s 1s/step - loss: 0.0187 - accuracy: 0.9978 - val_loss: 0.1589 - val_accuracy: 0.9567\n",
      "Epoch 6/10\n",
      "29/29 [==============================] - 45s 2s/step - loss: 0.0042 - accuracy: 1.0000 - val_loss: 0.1414 - val_accuracy: 0.9567\n",
      "Epoch 7/10\n",
      "29/29 [==============================] - 44s 2s/step - loss: 0.0018 - accuracy: 1.0000 - val_loss: 0.1415 - val_accuracy: 0.9667\n",
      "Epoch 8/10\n",
      "29/29 [==============================] - 45s 2s/step - loss: 8.3334e-04 - accuracy: 1.0000 - val_loss: 0.1433 - val_accuracy: 0.9667\n",
      "Epoch 9/10\n",
      "29/29 [==============================] - 51s 2s/step - loss: 0.0022 - accuracy: 0.9989 - val_loss: 0.1877 - val_accuracy: 0.9533\n",
      "Epoch 10/10\n",
      "29/29 [==============================] - 45s 2s/step - loss: 0.0040 - accuracy: 1.0000 - val_loss: 0.1939 - val_accuracy: 0.9567\n"
     ]
    }
   ],
   "source": [
    "training_history = cnn.fit(x = training_set, validation_data = validation_set, epochs=10)"
   ]
  },
  {
   "cell_type": "code",
   "execution_count": 49,
   "metadata": {},
   "outputs": [
    {
     "name": "stdout",
     "output_type": "stream",
     "text": [
      "29/29 [==============================] - 6s 194ms/step - loss: 0.0029 - accuracy: 0.9989\n",
      "Training accuracy: [0.002903879852965474, 0.9988889098167419]\n"
     ]
    }
   ],
   "source": [
    "train_loss = train_acc = cnn.evaluate(training_set)\n",
    "print('Training accuracy:', train_acc)"
   ]
  },
  {
   "cell_type": "code",
   "execution_count": 50,
   "metadata": {},
   "outputs": [
    {
     "name": "stdout",
     "output_type": "stream",
     "text": [
      "10/10 [==============================] - 2s 185ms/step - loss: 0.1939 - accuracy: 0.9567\n",
      "Validation_accuracy 0.9566666483879089\n"
     ]
    }
   ],
   "source": [
    "val_loss, val_acc = cnn.evaluate(validation_set)\n",
    "print('Validation_accuracy', val_acc)"
   ]
  },
  {
   "cell_type": "code",
   "execution_count": 51,
   "metadata": {},
   "outputs": [],
   "source": [
    "cnn.save('trained_plant_disease_model.keras')"
   ]
  },
  {
   "cell_type": "code",
   "execution_count": 52,
   "metadata": {},
   "outputs": [
    {
     "data": {
      "text/plain": [
       "{'loss': [0.02237161621451378,\n",
       "  0.015013858675956726,\n",
       "  0.015362619422376156,\n",
       "  0.07067149132490158,\n",
       "  0.018706897273659706,\n",
       "  0.00422196090221405,\n",
       "  0.0017591723008081317,\n",
       "  0.0008333387668244541,\n",
       "  0.0021793844643980265,\n",
       "  0.003988401498645544],\n",
       " 'accuracy': [0.9933333396911621,\n",
       "  0.9944444298744202,\n",
       "  0.995555579662323,\n",
       "  0.9766666889190674,\n",
       "  0.9977777600288391,\n",
       "  1.0,\n",
       "  1.0,\n",
       "  1.0,\n",
       "  0.9988889098167419,\n",
       "  1.0],\n",
       " 'val_loss': [0.14959730207920074,\n",
       "  0.15342964231967926,\n",
       "  0.22966527938842773,\n",
       "  0.13310322165489197,\n",
       "  0.15892340242862701,\n",
       "  0.1414368748664856,\n",
       "  0.14149940013885498,\n",
       "  0.143318310379982,\n",
       "  0.18769799172878265,\n",
       "  0.1938917487859726],\n",
       " 'val_accuracy': [0.9566666483879089,\n",
       "  0.9466666579246521,\n",
       "  0.9366666674613953,\n",
       "  0.95333331823349,\n",
       "  0.9566666483879089,\n",
       "  0.9566666483879089,\n",
       "  0.9666666388511658,\n",
       "  0.9666666388511658,\n",
       "  0.95333331823349,\n",
       "  0.9566666483879089]}"
      ]
     },
     "execution_count": 52,
     "metadata": {},
     "output_type": "execute_result"
    }
   ],
   "source": [
    "training_history.history"
   ]
  },
  {
   "cell_type": "code",
   "execution_count": 53,
   "metadata": {},
   "outputs": [
    {
     "data": {
      "image/png": "[encoded data removed]",
      "text/plain": [
       "<Figure size 640x480 with 1 Axes>"
      ]
     },
     "metadata": {},
     "output_type": "display_data"
    }
   ],
   "source": [
    "epochs = [i for i in range(1,11)]\n",
    "plt.plot(epochs,training_history.history['accuracy'],color='brown',label='Training Accuracy')\n",
    "plt.plot(epochs,training_history.history['val_accuracy'],color='green',label='Validation Accuracy')\n",
    "plt.xlabel('No. of Epochs')\n",
    "plt.title('Visualization of Accuracy Result')\n",
    "plt.legend()\n",
    "plt.show()"
   ]
  },
  {
   "cell_type": "code",
   "execution_count": null,
   "metadata": {},
   "outputs": [],
   "source": []
  }
 ],
 "metadata": {
  "kernelspec": {
   "display_name": "Python 3",
   "language": "python",
   "name": "python3"
  },
  "language_info": {
   "codemirror_mode": {
    "name": "ipython",
    "version": 3
   },
   "file_extension": ".py",
   "mimetype": "text/x-python",
   "name": "python",
   "nbconvert_exporter": "python",
   "pygments_lexer": "ipython3",
   "version": "3.11.3"
  }
 },
 "nbformat": 4,
 "nbformat_minor": 2
}
